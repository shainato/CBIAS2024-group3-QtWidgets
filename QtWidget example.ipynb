{
 "cells": [
  {
   "cell_type": "code",
   "execution_count": 7,
   "id": "d0372967-e9dd-4ebc-b78a-e2e5da69abb0",
   "metadata": {},
   "outputs": [],
   "source": [
    "import napari\n",
    "from qtpy.QtWidgets import QHBoxLayout, QPushButton, QWidget"
   ]
  },
  {
   "cell_type": "code",
   "execution_count": 8,
   "id": "fbf397d1-7270-4bd4-8919-b4d84bfbfb5d",
   "metadata": {},
   "outputs": [],
   "source": [
    "class ExampleQWidget(QWidget):\n",
    "    # your QWidget.__init__ can optionally request the napari viewer instance\n",
    "    # use a type annotation of 'napari.viewer.Viewer' for any parameter\n",
    "    def __init__(self, viewer: \"napari.viewer.Viewer\"):\n",
    "        super().__init__()\n",
    "        self.viewer = viewer\n",
    "\n",
    "        self.btn = QPushButton(\"Click me!\")\n",
    "        self.btn.clicked.connect(self._on_click)\n",
    "\n",
    "        self.setLayout(QHBoxLayout())\n",
    "        self.layout().addWidget(self.btn)\n",
    "\n",
    "    def _on_click(self):\n",
    "        print(\"napari has\", len(self.viewer.layers), \"layers\")"
   ]
  },
  {
   "cell_type": "code",
   "execution_count": 9,
   "id": "6e234bfa-9a02-4d27-b2c7-ba4269358e69",
   "metadata": {},
   "outputs": [],
   "source": [
    "viewer = napari.Viewer()"
   ]
  },
  {
   "cell_type": "code",
   "execution_count": 11,
   "id": "aad569e9-5a5a-4ddf-98dc-3ca61b0210f7",
   "metadata": {},
   "outputs": [],
   "source": [
    "mywidg = ExampleQWidget(viewer)"
   ]
  },
  {
   "cell_type": "code",
   "execution_count": 12,
   "id": "b11b26de-159f-490e-9aae-12dce0e4977c",
   "metadata": {},
   "outputs": [
    {
     "data": {
      "text/plain": [
       "<napari._qt.widgets.qt_viewer_dock_widget.QtViewerDockWidget at 0x1a9a153af80>"
      ]
     },
     "execution_count": 12,
     "metadata": {},
     "output_type": "execute_result"
    }
   ],
   "source": [
    "viewer.window.add_dock_widget(mywidg)"
   ]
  }
 ],
 "metadata": {
  "kernelspec": {
   "display_name": "Python 3 (ipykernel)",
   "language": "python",
   "name": "python3"
  },
  "language_info": {
   "codemirror_mode": {
    "name": "ipython",
    "version": 3
   },
   "file_extension": ".py",
   "mimetype": "text/x-python",
   "name": "python",
   "nbconvert_exporter": "python",
   "pygments_lexer": "ipython3",
   "version": "3.10.15"
  }
 },
 "nbformat": 4,
 "nbformat_minor": 5
}
