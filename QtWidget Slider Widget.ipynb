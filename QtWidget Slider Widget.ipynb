{
 "cells": [
  {
   "cell_type": "code",
   "execution_count": 1,
   "id": "0426b864-0747-42c5-9633-124faa00dec6",
   "metadata": {},
   "outputs": [],
   "source": [
    "import napari\n",
    "from qtpy.QtWidgets import QHBoxLayout, QWidget, QSlider, QLabel, QFormLayout, QComboBox\n",
    "from qtpy.QtCore import Qt"
   ]
  },
  {
   "cell_type": "code",
   "execution_count": 2,
   "id": "ebfd4eca-40bc-4d96-b9f9-3a0c5e9d843e",
   "metadata": {},
   "outputs": [],
   "source": [
    "class ExampleQWidget(QWidget):\n",
    "    def __init__(self, viewer: \"napari.viewer.Viewer\"):\n",
    "        super().__init__()\n",
    "        self.viewer = viewer\n",
    "\n",
    "        # Layout setup\n",
    "        layout = QFormLayout()\n",
    "        self.setLayout(layout)\n",
    "        \n",
    "        # First Slider and Label\n",
    "        self.slider1 = QSlider(Qt.Horizontal)\n",
    "        self.slider1.setSingleStep(1)\n",
    "        self.slider1.setMinimum(10)\n",
    "        self.slider1.setMaximum(30)\n",
    "        self.slider1.setValue(20)\n",
    "        self.slider1.setTickPosition(QSlider.TicksBelow)\n",
    "        self.slider1.setTickInterval(5)\n",
    "        self.slider1.valueChanged.connect(self.update_slider1)\n",
    "\n",
    "        self.label1 = QLabel(\"\", self)\n",
    "\n",
    "        layout.addRow(\"Decomposition Level\", self.slider1)\n",
    "        layout.addRow(self.label1)\n",
    "        \n",
    "        # Second Slider and Label\n",
    "        self.slider2 = QSlider(Qt.Horizontal)\n",
    "        self.slider2.setSingleStep(1)\n",
    "        self.slider2.setMinimum(10)\n",
    "        self.slider2.setMaximum(30)\n",
    "        self.slider2.setValue(20)\n",
    "        self.slider2.setTickPosition(QSlider.TicksBelow)\n",
    "        self.slider2.setTickInterval(5)\n",
    "        self.slider2.valueChanged.connect(self.update_slider2)\n",
    "\n",
    "        self.label2 = QLabel(\"\", self)\n",
    "\n",
    "        layout.addRow(\"Sigma\", self.slider2)\n",
    "        layout.addRow(self.label2)\n",
    "\n",
    "        # Drop Down Box\n",
    "        self.combobox = QComboBox(self)\n",
    "        self.combobox.addItem(\"Coiflet 1\")\n",
    "        self.combobox.addItem(\"Coiflet 2\")\n",
    "        self.combobox.addItem(\"Coiflet 3\")\n",
    "        self.combobox.move(50, 50)\n",
    "        \n",
    "        self.label3 = QLabel(\"\", self)\n",
    "\n",
    "        layout.addRow(\"Wavelet\", self.combobox)\n",
    "        layout.addRow(self.combobox)\n",
    "\n",
    "    # Update methods for each slider\n",
    "    def update_slider1(self, value):\n",
    "        self.label1.setText(f'Slider 1 Value: {value}')\n",
    "\n",
    "    def update_slider2(self, value):\n",
    "        self.label2.setText(f'Slider 2 Value: {value}')"
   ]
  },
  {
   "cell_type": "code",
   "execution_count": 3,
   "id": "1997f0b2-c1a5-4db9-b487-23a7bcc62a67",
   "metadata": {},
   "outputs": [],
   "source": [
    "viewer = napari.Viewer()"
   ]
  },
  {
   "cell_type": "code",
   "execution_count": 4,
   "id": "4458dbb6-42e9-4783-bcce-8d14fd5eeee7",
   "metadata": {},
   "outputs": [],
   "source": [
    "mywidg = ExampleQWidget(viewer)"
   ]
  },
  {
   "cell_type": "code",
   "execution_count": 5,
   "id": "6f8d5a11-4678-4cac-9934-fde9746338e6",
   "metadata": {},
   "outputs": [
    {
     "data": {
      "text/plain": [
       "<napari._qt.widgets.qt_viewer_dock_widget.QtViewerDockWidget at 0x16bff2b83a0>"
      ]
     },
     "execution_count": 5,
     "metadata": {},
     "output_type": "execute_result"
    }
   ],
   "source": [
    "viewer.window.add_dock_widget(mywidg)"
   ]
  },
  {
   "cell_type": "code",
   "execution_count": null,
   "id": "371a7852-0542-42ea-b7df-56f9f707b4ac",
   "metadata": {},
   "outputs": [],
   "source": [
    "viewer.close()"
   ]
  }
 ],
 "metadata": {
  "kernelspec": {
   "display_name": "Python 3 (ipykernel)",
   "language": "python",
   "name": "python3"
  },
  "language_info": {
   "codemirror_mode": {
    "name": "ipython",
    "version": 3
   },
   "file_extension": ".py",
   "mimetype": "text/x-python",
   "name": "python",
   "nbconvert_exporter": "python",
   "pygments_lexer": "ipython3",
   "version": "3.10.15"
  }
 },
 "nbformat": 4,
 "nbformat_minor": 5
}
