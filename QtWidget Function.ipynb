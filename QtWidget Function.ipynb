{
 "cells": [
  {
   "cell_type": "code",
   "execution_count": 50,
   "id": "0426b864-0747-42c5-9633-124faa00dec6",
   "metadata": {},
   "outputs": [],
   "source": [
    "import napari\n",
    "import cv2\n",
    "import numpy as np\n",
    "import pywt\n",
    "from qtpy.QtWidgets import QHBoxLayout, QWidget, QSlider, QLabel, QFormLayout, QComboBox\n",
    "from qtpy.QtCore import Qt"
   ]
  },
  {
   "cell_type": "code",
   "execution_count": 51,
   "id": "ebfd4eca-40bc-4d96-b9f9-3a0c5e9d843e",
   "metadata": {},
   "outputs": [],
   "source": [
    "class ExampleQWidget(QWidget):\n",
    "    def __init__(self, viewer: \"napari.viewer.Viewer\"):\n",
    "        super().__init__()\n",
    "        self.viewer = viewer\n",
    "        self.dec_num = 20  # Default decomposition level\n",
    "        self.sigma = 20    # Default sigma value\n",
    "        \n",
    "        # Layout setup\n",
    "        layout = QFormLayout()\n",
    "        self.setLayout(layout)\n",
    "\n",
    "        # First Slider and Label\n",
    "        self.slider1 = QSlider(Qt.Horizontal)\n",
    "        self.slider1.setSingleStep(1)\n",
    "        self.slider1.setMinimum(1)\n",
    "        self.slider1.setMaximum(15)\n",
    "        self.slider1.setValue(6)\n",
    "        # self.slider1.setTickPosition(QSlider.TicksBelow)\n",
    "        # self.slider1.setTickInterval(5)\n",
    "        self.slider1.valueChanged.connect(self.on_slider1_change)\n",
    "\n",
    "        self.label1 = QLabel(f\"Decomposition Level: {self.slider1.value()}\", self)\n",
    "        layout.addRow(\"Decomposition Level\", self.slider1)\n",
    "        layout.addRow(self.label1)\n",
    "\n",
    "        # Second Slider and Label\n",
    "        self.slider2 = QSlider(Qt.Horizontal)\n",
    "        self.slider2.setSingleStep(1)\n",
    "        self.slider2.setMinimum(1)\n",
    "        self.slider2.setMaximum(15)\n",
    "        self.slider2.setValue(4)\n",
    "        # self.slider2.setTickPosition(QSlider.TicksBelow)\n",
    "        # self.slider2.setTickInterval(5)\n",
    "        self.slider2.valueChanged.connect(self.on_slider2_change)\n",
    "\n",
    "        self.label2 = QLabel(f\"Sigma: {self.slider2.value()}\", self)\n",
    "        layout.addRow(\"Sigma\", self.slider2)\n",
    "        layout.addRow(self.label2)\n",
    "\n",
    "        # Combo Box\n",
    "        self.combobox = QComboBox(self)\n",
    "        self.combobox.addItems([\"Coiflet 1\", \"Coiflet 2\", \"Coiflet 3\"])\n",
    "        # self.combobox.currentTextChanged.connect(self.update_wavelet_selection)\n",
    "        \n",
    "        layout.addRow(\"Wavelet\", self.combobox)\n",
    "\n",
    "    # Handle slider updates\n",
    "    def on_slider1_change(self, value):\n",
    "        self.label1.setText(f'Decomposition Level Value: {value}')\n",
    "        self.on_slider_change(value, \"Decomposition Level\")\n",
    "        self.last_slider = \"Decomposition Level\"\n",
    "        self.dec_num = value\n",
    "\n",
    "    def on_slider2_change(self, value):\n",
    "        self.label2.setText(f'Sigma: {value}')\n",
    "        self.on_slider_change(value, \"Sigma\")\n",
    "        self.last_slider = \"Sigma\"\n",
    "        self.sigma = value\n",
    "\n",
    "    def on_slider_change(self, value, slider_type):\n",
    "        print(f\"Slider {slider_type} changed to {value}\")\n",
    "        self.process_slice()\n",
    "\n",
    "    # Decurtaining function\n",
    "    def process_slice(self):\n",
    "        slice_data = self.viewer.layers[0].data\n",
    "\n",
    "        if len(self.viewer.layers) == 1:\n",
    "            self.viewer.add_image(self.viewer.layers[0].data, name=\"copy\")\n",
    "\n",
    "        slice_data_dtype = slice_data.dtype\n",
    "        slice_data_shape = slice_data.shape\n",
    "\n",
    "        dec_num = self.dec_num\n",
    "        sigma = self.sigma\n",
    "        wname = \"coif3\"\n",
    "        \n",
    "        # Decomposes image into details\n",
    "        Ch, Cv, Cd = [], [], []\n",
    "        for ii in range(dec_num):\n",
    "            slice_data, (ch, cv, cd) = pywt.dwt2(slice_data, wname)\n",
    "            Ch.append(ch)\n",
    "            Cv.append(cv)\n",
    "            Cd.append(cd)\n",
    "    \n",
    "        # Applies damping to vertical detail coefficient at each decomposition level\n",
    "        for ii in range(dec_num):\n",
    "            fCv = np.fft.fftshift(np.fft.fft2(Cv[ii]))\n",
    "            my, mx = fCv.shape\n",
    "    \n",
    "            damp = 1 - np.exp(-np.square(np.arange(-my // 2, my // 2)) / (2 * sigma ** 2))\n",
    "            fCv *= damp[:, np.newaxis]\n",
    "    \n",
    "            Cv[ii] = np.fft.ifft2(np.fft.ifftshift(fCv))\n",
    "    \n",
    "        img_ori_recon = slice_data\n",
    "        print(img_ori_recon.shape)\n",
    "    \n",
    "        # Reconstructs details into image\n",
    "        for ii in range(dec_num - 1, -1, -1):\n",
    "            img_ori_recon = img_ori_recon[:Ch[ii].shape[0], :Ch[ii].shape[1]]\n",
    "            img_ori_recon = pywt.idwt2((img_ori_recon, (Ch[ii], Cv[ii], Cd[ii])), wname)\n",
    "        \n",
    "        # Crops back to original size\n",
    "        img_ori_crop = img_ori_recon[:slice_data_shape[0], :slice_data_shape[1]]\n",
    "    \n",
    "        # Converts complex128 into float64\n",
    "        img_ori_float = np.abs(img_ori_crop).astype(np.float64)\n",
    "    \n",
    "        # Converts and normalizes range to original 8 or 16 bit unsigned integers\n",
    "        processed_slice_uint = None\n",
    "        if slice_data_dtype == \"uint16\":\n",
    "            processed_slice_uint = cv2.normalize(img_ori_float, None, alpha=0, beta=65535, norm_type=cv2.NORM_MINMAX,\n",
    "                                                 dtype=cv2.CV_16U)\n",
    "        elif slice_data_dtype == \"uint8\":\n",
    "            processed_slice_uint = cv2.normalize(img_ori_float, None, alpha=0, beta=255, norm_type=cv2.NORM_MINMAX,\n",
    "                                                 dtype=cv2.CV_8U)\n",
    "        print(slice_data_dtype)\n",
    "    \n",
    "        self.viewer.layers[\"copy\"].data = processed_slice_uint"
   ]
  },
  {
   "cell_type": "code",
   "execution_count": 52,
   "id": "1997f0b2-c1a5-4db9-b487-23a7bcc62a67",
   "metadata": {},
   "outputs": [],
   "source": [
    "viewer = napari.Viewer()"
   ]
  },
  {
   "cell_type": "code",
   "execution_count": 53,
   "id": "4458dbb6-42e9-4783-bcce-8d14fd5eeee7",
   "metadata": {},
   "outputs": [],
   "source": [
    "mywidg = ExampleQWidget(viewer)"
   ]
  },
  {
   "cell_type": "code",
   "execution_count": 54,
   "id": "6f8d5a11-4678-4cac-9934-fde9746338e6",
   "metadata": {},
   "outputs": [
    {
     "data": {
      "text/plain": [
       "<napari._qt.widgets.qt_viewer_dock_widget.QtViewerDockWidget at 0x234b1d9e290>"
      ]
     },
     "execution_count": 54,
     "metadata": {},
     "output_type": "execute_result"
    },
    {
     "name": "stdout",
     "output_type": "stream",
     "text": [
      "Slider Decomposition Level changed to 7\n",
      "(17, 17)\n",
      "uint16\n",
      "Slider Decomposition Level changed to 10\n",
      "(28, 32)\n",
      "uint16\n"
     ]
    }
   ],
   "source": [
    "viewer.window.add_dock_widget(mywidg)"
   ]
  },
  {
   "cell_type": "code",
   "execution_count": null,
   "id": "371a7852-0542-42ea-b7df-56f9f707b4ac",
   "metadata": {},
   "outputs": [],
   "source": [
    "viewer.close()"
   ]
  }
 ],
 "metadata": {
  "kernelspec": {
   "display_name": "Python 3 (ipykernel)",
   "language": "python",
   "name": "python3"
  },
  "language_info": {
   "codemirror_mode": {
    "name": "ipython",
    "version": 3
   },
   "file_extension": ".py",
   "mimetype": "text/x-python",
   "name": "python",
   "nbconvert_exporter": "python",
   "pygments_lexer": "ipython3",
   "version": "3.10.15"
  }
 },
 "nbformat": 4,
 "nbformat_minor": 5
}
